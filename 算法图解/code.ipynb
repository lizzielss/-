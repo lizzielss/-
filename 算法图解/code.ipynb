{
 "cells": [
  {
   "cell_type": "markdown",
   "metadata": {},
   "source": [
    "## 二分查找"
   ]
  },
  {
   "cell_type": "code",
   "execution_count": 4,
   "metadata": {
    "ExecuteTime": {
     "end_time": "2019-11-25T12:34:57.373886Z",
     "start_time": "2019-11-25T12:34:57.313725Z"
    }
   },
   "outputs": [],
   "source": [
    "def binay_search(list, item):\n",
    "    low = 0\n",
    "    high = len(list) - 1\n",
    "    while(low <= high):\n",
    "        mid = (low + high) // 2\n",
    "        guess = list[mid]\n",
    "        if guess < item:\n",
    "            low = mid + 1\n",
    "        elif guess > item:\n",
    "            high= mid - 1\n",
    "        else:\n",
    "            return print('Right! The number is :', guess)\n",
    "        \n",
    "\n",
    "    return print('There is no %s in this array' %item)"
   ]
  },
  {
   "cell_type": "code",
   "execution_count": 5,
   "metadata": {
    "ExecuteTime": {
     "end_time": "2019-11-25T12:34:57.948735Z",
     "start_time": "2019-11-25T12:34:57.934178Z"
    }
   },
   "outputs": [
    {
     "name": "stdout",
     "output_type": "stream",
     "text": [
      "Right! The number is : 13\n"
     ]
    }
   ],
   "source": [
    "binay_search([1,3,5,7,9,11,13,15],13)"
   ]
  },
  {
   "cell_type": "code",
   "execution_count": 6,
   "metadata": {
    "ExecuteTime": {
     "end_time": "2019-11-25T12:34:58.918681Z",
     "start_time": "2019-11-25T12:34:58.886063Z"
    }
   },
   "outputs": [
    {
     "name": "stdout",
     "output_type": "stream",
     "text": [
      "There is no -1 in this array\n"
     ]
    }
   ],
   "source": [
    "binay_search([1,3,5,7,9,11,13,15],-1)"
   ]
  },
  {
   "cell_type": "markdown",
   "metadata": {},
   "source": [
    "## 选择排序"
   ]
  },
  {
   "cell_type": "code",
   "execution_count": 10,
   "metadata": {
    "ExecuteTime": {
     "end_time": "2019-11-25T12:35:12.054096Z",
     "start_time": "2019-11-25T12:35:12.022900Z"
    }
   },
   "outputs": [],
   "source": [
    "#对数组进行选择排序\n",
    "def findSmallest(arr):\n",
    "    smallest = arr[0]\n",
    "    smallest_index = 0\n",
    "    for i in range(1,len(arr)):\n",
    "        if arr[i] < smallest:\n",
    "            smallest = arr[i]\n",
    "            smallest_index = i\n",
    "    return smallest_index"
   ]
  },
  {
   "cell_type": "code",
   "execution_count": 11,
   "metadata": {
    "ExecuteTime": {
     "end_time": "2019-11-25T12:35:12.364632Z",
     "start_time": "2019-11-25T12:35:12.334829Z"
    }
   },
   "outputs": [],
   "source": [
    "def selectionSort(arr):          #对数组进行排序\n",
    "    newArr = []\n",
    "    for i in range(len(arr)):\n",
    "        smallest = findSmallest(arr)            #找出最小元素，将其加入到新数组中\n",
    "        newArr.append(arr[smallest])\n",
    "        arr.pop(smallest)                       #newArr.append(arr.pop(smallest))\n",
    "    return newArr"
   ]
  },
  {
   "cell_type": "code",
   "execution_count": 12,
   "metadata": {
    "ExecuteTime": {
     "end_time": "2019-11-25T12:35:12.628241Z",
     "start_time": "2019-11-25T12:35:12.613781Z"
    }
   },
   "outputs": [
    {
     "name": "stdout",
     "output_type": "stream",
     "text": [
      "[2, 3, 5, 6, 10]\n"
     ]
    }
   ],
   "source": [
    "print(selectionSort([5, 3, 6, 2, 10]))"
   ]
  },
  {
   "cell_type": "markdown",
   "metadata": {},
   "source": [
    "## 递归"
   ]
  },
  {
   "cell_type": "code",
   "execution_count": 14,
   "metadata": {
    "ExecuteTime": {
     "end_time": "2019-11-25T12:36:57.485384Z",
     "start_time": "2019-11-25T12:36:57.464714Z"
    }
   },
   "outputs": [],
   "source": [
    "def DCsum(arr):\n",
    "    if arr == []:\n",
    "        return 0\n",
    "    else:\n",
    "        sum = arr[0] +DCsum(arr[1:])\n",
    "    return sum"
   ]
  },
  {
   "cell_type": "code",
   "execution_count": 15,
   "metadata": {
    "ExecuteTime": {
     "end_time": "2019-11-25T12:37:12.780772Z",
     "start_time": "2019-11-25T12:37:12.735783Z"
    }
   },
   "outputs": [
    {
     "data": {
      "text/plain": [
       "15"
      ]
     },
     "execution_count": 15,
     "metadata": {},
     "output_type": "execute_result"
    }
   ],
   "source": [
    "DCsum([1,2,3,4,5])"
   ]
  },
  {
   "cell_type": "markdown",
   "metadata": {},
   "source": [
    "## 快速排序"
   ]
  },
  {
   "cell_type": "code",
   "execution_count": 33,
   "metadata": {
    "ExecuteTime": {
     "end_time": "2019-11-25T13:01:03.205049Z",
     "start_time": "2019-11-25T13:01:03.164335Z"
    }
   },
   "outputs": [],
   "source": [
    "def quicksort(arr):\n",
    "    if len(arr) < 2:\n",
    "        return arr\n",
    "    else:\n",
    "        pivot = arr[0]\n",
    "        less = [i for i in arr[1:] if i <= pivot]\n",
    "        greater = [i for i in arr[1:] if i > pivot]\n",
    "        k = [pivot]\n",
    "        return quicksort(less) + k + quicksort(greater)"
   ]
  },
  {
   "cell_type": "code",
   "execution_count": 34,
   "metadata": {
    "ExecuteTime": {
     "end_time": "2019-11-25T13:01:03.744888Z",
     "start_time": "2019-11-25T13:01:03.732737Z"
    }
   },
   "outputs": [
    {
     "name": "stdout",
     "output_type": "stream",
     "text": [
      "[2, 3, 5, 10]\n"
     ]
    }
   ],
   "source": [
    "print(quicksort([10,5,2,3]))"
   ]
  },
  {
   "cell_type": "markdown",
   "metadata": {},
   "source": [
    "## 散列函数"
   ]
  },
  {
   "cell_type": "code",
   "execution_count": 3,
   "metadata": {
    "ExecuteTime": {
     "end_time": "2019-11-26T09:25:25.008642Z",
     "start_time": "2019-11-26T09:25:24.976278Z"
    }
   },
   "outputs": [],
   "source": [
    "#避免重复投票\n",
    "voted = {}\n",
    "def check_voter(name):\n",
    "    if voted.get(name):\n",
    "        print(\"Kick them out!\")\n",
    "    else:\n",
    "        voted[name] = True\n",
    "        print(\"Let them vote!\")"
   ]
  },
  {
   "cell_type": "code",
   "execution_count": 4,
   "metadata": {
    "ExecuteTime": {
     "end_time": "2019-11-26T09:25:26.207061Z",
     "start_time": "2019-11-26T09:25:26.188768Z"
    }
   },
   "outputs": [
    {
     "name": "stdout",
     "output_type": "stream",
     "text": [
      "Let them vote!\n"
     ]
    }
   ],
   "source": [
    "check_voter(\"tom\")"
   ]
  },
  {
   "cell_type": "code",
   "execution_count": 5,
   "metadata": {
    "ExecuteTime": {
     "end_time": "2019-11-26T09:25:39.258919Z",
     "start_time": "2019-11-26T09:25:39.245236Z"
    }
   },
   "outputs": [
    {
     "name": "stdout",
     "output_type": "stream",
     "text": [
      "Let them vote!\n"
     ]
    }
   ],
   "source": [
    "check_voter(\"mike\")"
   ]
  },
  {
   "cell_type": "code",
   "execution_count": 6,
   "metadata": {
    "ExecuteTime": {
     "end_time": "2019-11-26T09:25:43.585594Z",
     "start_time": "2019-11-26T09:25:43.572349Z"
    }
   },
   "outputs": [
    {
     "name": "stdout",
     "output_type": "stream",
     "text": [
      "Kick them out!\n"
     ]
    }
   ],
   "source": [
    "check_voter(\"mike\")"
   ]
  },
  {
   "cell_type": "markdown",
   "metadata": {},
   "source": [
    "## 广度优先搜索"
   ]
  },
  {
   "cell_type": "code",
   "execution_count": 11,
   "metadata": {
    "ExecuteTime": {
     "end_time": "2019-11-27T13:34:15.883995Z",
     "start_time": "2019-11-27T13:34:15.849557Z"
    }
   },
   "outputs": [],
   "source": [
    "graph = {}\n",
    "graph[\"you\"] = [\"alice\", \"bob\", \"claire\"]\n",
    "graph[\"bob\"] = [\"anuj\", \"peggy\"]\n",
    "graph[\"alice\"] = [\"peggy\"]\n",
    "graph[\"claire\"] = [\"thom\", \"jonny\"]\n",
    "graph[\"anuj\"] = []\n",
    "graph[\"peggy\"] = []\n",
    "graph[\"thom\"] = []\n",
    "graph[\"jonny\"] = []\n"
   ]
  },
  {
   "cell_type": "code",
   "execution_count": 14,
   "metadata": {
    "ExecuteTime": {
     "end_time": "2019-11-27T13:37:37.043771Z",
     "start_time": "2019-11-27T13:37:36.969489Z"
    },
    "hide_input": false
   },
   "outputs": [],
   "source": [
    "from collections import deque\n",
    "\n",
    "def person_is_seller(name):\n",
    "    return name[-1] == 'm'\t\t\t#假设名字以m结尾的人为芒果销售商\n",
    "\n",
    "def search(name):\n",
    "    search_queue = deque()\n",
    "    search_queue += graph[\"you\"]\t#“you”元素的邻居加入队列\n",
    "    searched=[]\t\t\t\t\t\t#记录检查过的人\n",
    "    while search_queue:\n",
    "        person = search_queue.popleft() \t\t#弹出队列左边的元素\n",
    "        if person not in searched:\n",
    "            if person_is_seller(person):\n",
    "                print((person +\" \"+ \"is a mango seller!\"))\n",
    "                return True\n",
    "            else:\n",
    "                search_queue += graph[person]\n",
    "                searched.append(person)\n",
    "    return False\n",
    "\n"
   ]
  },
  {
   "cell_type": "code",
   "execution_count": 15,
   "metadata": {
    "ExecuteTime": {
     "end_time": "2019-11-27T13:37:37.422859Z",
     "start_time": "2019-11-27T13:37:37.401840Z"
    }
   },
   "outputs": [
    {
     "name": "stdout",
     "output_type": "stream",
     "text": [
      "thom is a mango seller!\n"
     ]
    },
    {
     "data": {
      "text/plain": [
       "True"
      ]
     },
     "execution_count": 15,
     "metadata": {},
     "output_type": "execute_result"
    }
   ],
   "source": [
    "search(\"you\")"
   ]
  },
  {
   "cell_type": "markdown",
   "metadata": {
    "ExecuteTime": {
     "end_time": "2019-11-30T02:14:24.129441Z",
     "start_time": "2019-11-30T02:14:24.117671Z"
    }
   },
   "source": [
    "## dijkstra算法"
   ]
  },
  {
   "cell_type": "code",
   "execution_count": 2,
   "metadata": {
    "ExecuteTime": {
     "end_time": "2019-11-30T02:23:03.459026Z",
     "start_time": "2019-11-30T02:23:03.367783Z"
    }
   },
   "outputs": [],
   "source": [
    "graph = {}\n",
    "graph[\"start\"] = {}\n",
    "graph[\"start\"][\"a\"] = 6\n",
    "graph[\"start\"][\"b\"] = 2\n",
    "\n",
    "graph[\"a\"] = {}\n",
    "graph[\"a\"][\"fin\"] = 1\n",
    "graph[\"b\"] = {}\n",
    "graph[\"b\"][\"a\"] = 3\n",
    "graph[\"b\"][\"fin\"] = 5\n",
    "graph[\"fin\"] = {}\n",
    "\n",
    "infinity = float(\"inf\")\n",
    "costs = {}\n",
    "costs[\"a\"] = 6\n",
    "costs[\"b\"] = 2\n",
    "costs[\"fin\"] = infinity\n",
    "\n",
    "parents = {}\n",
    "parents[\"a\"] = \"start\"\n",
    "parents[\"b\"] = \"start\"\n",
    "parents[\"fin\"] = None\n",
    "\n",
    "processed = []"
   ]
  },
  {
   "cell_type": "code",
   "execution_count": 5,
   "metadata": {
    "ExecuteTime": {
     "end_time": "2019-11-30T02:24:25.413032Z",
     "start_time": "2019-11-30T02:24:25.318177Z"
    }
   },
   "outputs": [],
   "source": [
    "def find_lowest_cost_node(costs):\n",
    "    lowest_cost = float(\"inf\")\t\t\t\t#初始化最小开销为无穷\n",
    "    lowest_cost_node = None\t\t\t\t\t#初始化没有最小开销的结点\n",
    "    for node in costs:\t\t\t\t\t\t#遍历所有节点\n",
    "        cost = costs[node]\n",
    "        if cost < lowest_cost and node not in processed:   \t#如果当前结点开销小于最低开销\n",
    "            lowes_cost = cost\t\t\t\t#且未被处理过，更新最小开销和最小开销的结点，循环\n",
    "            lowest_cost_node = node\n",
    "    return lowest_cost_node\t\t\t\t#返回最小开销点\n",
    "\n",
    "node = find_lowest_cost_node(costs)\t\t\t#在未处理的节点中找到开销最小的结点\n",
    "while node is not None:\t\t\t\t\t\t#所有节点都遍历完后结束\n",
    "    cost = costs[node]\t\t\t\t\t\t\n",
    "    neighbors = graph[node]\n",
    "    for n in neighbors.keys():\t\t\t\t#当前结点的邻居结点\n",
    "        new_cost = cost + neighbors[n]\n",
    "        if costs[n] > new_cost:\t\t\t\t#如果当前结点前往该邻居更近就更新邻居开销\n",
    "            costs[n] = new_cost\n",
    "            parents[n] = node\t\t\t\t#邻居的父节点为当前结点\n",
    "    processed.append(node)\t\t\t\t\t#当前结点加入已处理过\n",
    "    node = find_lowest_cost_node(costs)\t\t#找到接下来要处理的结点，循环\n",
    "    \n",
    "            "
   ]
  },
  {
   "cell_type": "code",
   "execution_count": 6,
   "metadata": {
    "ExecuteTime": {
     "end_time": "2019-11-30T02:24:54.501721Z",
     "start_time": "2019-11-30T02:24:54.460056Z"
    }
   },
   "outputs": [
    {
     "data": {
      "text/plain": [
       "{'a': 'b', 'b': 'start', 'fin': 'a'}"
      ]
     },
     "execution_count": 6,
     "metadata": {},
     "output_type": "execute_result"
    }
   ],
   "source": [
    "parents"
   ]
  },
  {
   "cell_type": "markdown",
   "metadata": {},
   "source": [
    "## 贪婪算法"
   ]
  },
  {
   "cell_type": "code",
   "execution_count": 8,
   "metadata": {
    "ExecuteTime": {
     "end_time": "2019-11-30T02:43:15.506033Z",
     "start_time": "2019-11-30T02:43:15.460159Z"
    }
   },
   "outputs": [],
   "source": [
    "states_needed = set([\"mt\", \"wa\", \"or\", \"id\", \"nv\", \"ut\", \"ca\", \"az\"])\n",
    "stations = {}\n",
    "stations[\"kone\"] = set([\"id\", \"nv\", \"ut\"])\n",
    "stations[\"ktwo\"] = set([\"id\", \"wa\", \"mt\"])\n",
    "stations[\"kthree\"] = set([\"or\", \"nv\", \"ca\"])\n",
    "stations[\"kfour\"] = set([\"nv\", \"ut\"])\n",
    "stations[\"kfive\"] = set([\"ca\", \"az\"])\n",
    "\n",
    "final_stations = set()"
   ]
  },
  {
   "cell_type": "code",
   "execution_count": 11,
   "metadata": {
    "ExecuteTime": {
     "end_time": "2019-11-30T02:44:44.371490Z",
     "start_time": "2019-11-30T02:44:44.324850Z"
    }
   },
   "outputs": [],
   "source": [
    "#集合覆盖问题\n",
    "while states_needed:\n",
    "    best_station = None\n",
    "    states_covered = set()\n",
    "    for station, states_for_station in stations.items():\n",
    "        covered = states_needed & states_for_station\n",
    "        if len(covered) > len(states_covered):\n",
    "            best_station = station\n",
    "            states_covered = covered\n",
    "    states_needed -= states_covered\n",
    "    final_stations.add(best_station)\n"
   ]
  },
  {
   "cell_type": "code",
   "execution_count": 12,
   "metadata": {
    "ExecuteTime": {
     "end_time": "2019-11-30T02:44:45.090908Z",
     "start_time": "2019-11-30T02:44:45.076682Z"
    }
   },
   "outputs": [
    {
     "name": "stdout",
     "output_type": "stream",
     "text": [
      "{'kthree', 'kfive', 'kone', 'ktwo'}\n"
     ]
    }
   ],
   "source": [
    "print(final_stations)"
   ]
  },
  {
   "cell_type": "code",
   "execution_count": null,
   "metadata": {},
   "outputs": [],
   "source": []
  }
 ],
 "metadata": {
  "kernelspec": {
   "display_name": "Python 3",
   "language": "python",
   "name": "python3"
  },
  "language_info": {
   "codemirror_mode": {
    "name": "ipython",
    "version": 3
   },
   "file_extension": ".py",
   "mimetype": "text/x-python",
   "name": "python",
   "nbconvert_exporter": "python",
   "pygments_lexer": "ipython3",
   "version": "3.6.5"
  },
  "toc": {
   "base_numbering": 1,
   "nav_menu": {},
   "number_sections": true,
   "sideBar": true,
   "skip_h1_title": false,
   "title_cell": "Table of Contents",
   "title_sidebar": "Contents",
   "toc_cell": false,
   "toc_position": {},
   "toc_section_display": true,
   "toc_window_display": false
  },
  "varInspector": {
   "cols": {
    "lenName": 16,
    "lenType": 16,
    "lenVar": 40
   },
   "kernels_config": {
    "python": {
     "delete_cmd_postfix": "",
     "delete_cmd_prefix": "del ",
     "library": "var_list.py",
     "varRefreshCmd": "print(var_dic_list())"
    },
    "r": {
     "delete_cmd_postfix": ") ",
     "delete_cmd_prefix": "rm(",
     "library": "var_list.r",
     "varRefreshCmd": "cat(var_dic_list()) "
    }
   },
   "types_to_exclude": [
    "module",
    "function",
    "builtin_function_or_method",
    "instance",
    "_Feature"
   ],
   "window_display": false
  }
 },
 "nbformat": 4,
 "nbformat_minor": 2
}
